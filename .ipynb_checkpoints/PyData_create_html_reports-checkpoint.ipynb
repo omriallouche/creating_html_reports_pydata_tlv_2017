{
 "cells": [
  {
   "cell_type": "markdown",
   "metadata": {
    "slideshow": {
     "slide_type": "slide"
    }
   },
   "source": [
    "# Creating Beautiful Interactive Reports Automatically with HTML\n",
    "## Omri Allouche, [omri.allouche@gmail.com](mailto:omri.allouche@gmail.com)\n",
    "\n",
    "- Presenting analysis results in a clear and inviting way is often as important as the analysis details themselves. \n",
    "- We'll see how create beautiful interactive reports that load on any device (including mobile devices) without the need for software installation"
   ]
  },
  {
   "cell_type": "markdown",
   "metadata": {
    "slideshow": {
     "slide_type": "slide"
    }
   },
   "source": [
    "# About me\n",
    "- Senior data scientist @ [Gong.io](http://gong.io) - we're hiring!\n",
    "- Teach applied data science @ Bar Ilan University\n",
    "- PhD in Ecology (trying to save the world)\n",
    "- Developed weapon systems at a defense industry (trying to destroy the world)\n",
    "- Connect with me on [LinkedIn](https://www.linkedin.com/in/omria/) / [Facebook](https://www.facebook.com/omri.allouche)"
   ]
  },
  {
   "cell_type": "markdown",
   "metadata": {
    "slideshow": {
     "slide_type": "slide"
    }
   },
   "source": [
    "# Gong.io\n",
    "- Gong automatically records, transcribes and analyzes B2B sales calls, helping sales representatives improves with actionable recommendations\n",
    "- We serve known brands (LinkedIn, Pinterest) as well as smaller companies\n",
    "- We grow quickly\n",
    "- Large variety of tasks - in 6 months, I worked on NLP (sentiment analysis), Audio (laughter detection) and data science (recommendations)\n",
    "- We're hiring - email me (omri.allouche@gong.io) to learn more!"
   ]
  },
  {
   "cell_type": "markdown",
   "metadata": {
    "slideshow": {
     "slide_type": "slide"
    }
   },
   "source": [
    "## Our Sample Report\n",
    "We're asked to create a report about sales results for each client.  \n",
    "The report should show:\n",
    "- A table with sales performance of each sales rep\n",
    "- Contact information of each sales rep (phone+email)\n",
    "- Sales revenues (in \\$) per month\n",
    "- Sales revenues (in \\$) per industry\n",
    "\n",
    "The problem:\n",
    "- We have dozens of clients\n",
    "- Reports should be created once a month"
   ]
  },
  {
   "cell_type": "markdown",
   "metadata": {
    "slideshow": {
     "slide_type": "slide"
    }
   },
   "source": [
    "## The perfect Data Science report\n",
    "- Automatically created\n",
    "- Interactive\n",
    "- Beautiful\n",
    "- Easy to share\n",
    "- Opens on all devices & OS (including mobile)\n",
    "- Lightweight\n",
    "\n",
    "While not popular in the Python community, HTML is a simple format that answers all of our Data Science prayers, and is a great option for reports.  "
   ]
  },
  {
   "cell_type": "markdown",
   "metadata": {
    "slideshow": {
     "slide_type": "slide"
    }
   },
   "source": [
    "HTML is:\n",
    "- text based\n",
    "- uses tags to indicate structure\n",
    "   - `<h1>` for Header 1 (... to `<h6>` for smaller headers)\n",
    "   - `<a>` for links\n",
    "   - `<img>` for images\n",
    "   - `<div>` for basic element (\"division\")\n",
    "- Uses CSS to style\n",
    "- Uses Javascript to add functionality\n",
    "\n",
    "The final report is [here](output_report_Realbridge.html).  \n",
    "Let's start!"
   ]
  },
  {
   "cell_type": "markdown",
   "metadata": {
    "slideshow": {
     "slide_type": "slide"
    }
   },
   "source": [
    "We'll need to install the pandas and jinja2 packages."
   ]
  },
  {
   "cell_type": "code",
   "execution_count": 1,
   "metadata": {
    "slideshow": {
     "slide_type": "-"
    }
   },
   "outputs": [
    {
     "name": "stdout",
     "output_type": "stream",
     "text": [
      "Requirement already satisfied: pandas in c:\\users\\omri.allouche\\anaconda3\\lib\\site-packages\n",
      "Requirement already satisfied: python-dateutil>=2 in c:\\users\\omri.allouche\\anaconda3\\lib\\site-packages (from pandas)\n",
      "Requirement already satisfied: pytz>=2011k in c:\\users\\omri.allouche\\anaconda3\\lib\\site-packages (from pandas)\n",
      "Requirement already satisfied: numpy>=1.7.0 in c:\\users\\omri.allouche\\anaconda3\\lib\\site-packages (from pandas)\n",
      "Requirement already satisfied: six>=1.5 in c:\\users\\omri.allouche\\anaconda3\\lib\\site-packages (from python-dateutil>=2->pandas)\n",
      "Requirement already satisfied: jinja2 in c:\\users\\omri.allouche\\anaconda3\\lib\\site-packages\n",
      "Requirement already satisfied: MarkupSafe>=0.23 in c:\\users\\omri.allouche\\anaconda3\\lib\\site-packages (from jinja2)\n"
     ]
    }
   ],
   "source": [
    "!pip install pandas\n",
    "!pip install jinja2"
   ]
  },
  {
   "cell_type": "markdown",
   "metadata": {
    "slideshow": {
     "slide_type": "slide"
    }
   },
   "source": [
    "## Render HTML templates using Jinja2\n",
    "Jinja2 is a Python templating engine. \n",
    "- Uses a template - text string/file that contains placeholders for variables and commands for flow control\n",
    "- The template is compiled, replacing variables with their values from passed variables\n",
    "- Syntax is very similar to Python\n",
    "- Allows loops, conditionals\n",
    "- Works well with pandas Data Frames\n",
    "- Can be extended by creating new filters/functions"
   ]
  },
  {
   "cell_type": "markdown",
   "metadata": {
    "slideshow": {
     "slide_type": "subslide"
    }
   },
   "source": [
    "Let's see a basic example:"
   ]
  },
  {
   "cell_type": "code",
   "execution_count": 2,
   "metadata": {
    "collapsed": true,
    "slideshow": {
     "slide_type": "-"
    }
   },
   "outputs": [],
   "source": [
    "data = {\n",
    "    'sales_people': [\n",
    "        {\n",
    "            'name': 'Omri Allouche',\n",
    "            'phone': '(541) 123-4567',\n",
    "        },\n",
    "        {\n",
    "            'name': 'Steve Jobs',\n",
    "            'phone': '(541) 555-6666',\n",
    "        },\n",
    "        {\n",
    "            'name': 'Bill Gates',\n",
    "            'phone': '(541) 777-8888',\n",
    "        }\n",
    "    ]\n",
    "}"
   ]
  },
  {
   "cell_type": "code",
   "execution_count": 3,
   "metadata": {
    "collapsed": true,
    "slideshow": {
     "slide_type": "subslide"
    }
   },
   "outputs": [],
   "source": [
    "template = '''\n",
    "   <h3>{{sales_people[0].name}}</h3>\n",
    "   Phone: {{sales_people.0.phone}}\n",
    "'''"
   ]
  },
  {
   "cell_type": "code",
   "execution_count": 4,
   "metadata": {
    "collapsed": true,
    "slideshow": {
     "slide_type": "subslide"
    }
   },
   "outputs": [],
   "source": [
    "from jinja2 import Environment, BaseLoader\n",
    "template = Environment(loader=BaseLoader).from_string(template)\n",
    "output = template.render(**data)"
   ]
  },
  {
   "cell_type": "code",
   "execution_count": 5,
   "metadata": {},
   "outputs": [
    {
     "data": {
      "text/html": [
       "\n",
       "   <h3>Omri Allouche</h3>\n",
       "   Phone: (541) 123-4567"
      ],
      "text/plain": [
       "<IPython.core.display.HTML object>"
      ]
     },
     "metadata": {},
     "output_type": "display_data"
    }
   ],
   "source": [
    "from IPython.core.display import display, HTML\n",
    "display(HTML(output))"
   ]
  },
  {
   "cell_type": "markdown",
   "metadata": {
    "slideshow": {
     "slide_type": "slide"
    }
   },
   "source": [
    "## Get a head start with Twitter Bootstrap\n",
    "- Very popular framework for HTML+JS+CSS\n",
    "- Grid system based on 12 columns \n",
    "- Styled elements using CSS classes\n",
    "- Gallery of useful elements"
   ]
  },
  {
   "cell_type": "code",
   "execution_count": 6,
   "metadata": {
    "collapsed": true,
    "slideshow": {
     "slide_type": "subslide"
    }
   },
   "outputs": [],
   "source": [
    "template = '''\n",
    "<link rel=\"stylesheet\" href=\"https://maxcdn.bootstrapcdn.com/bootstrap/3.3.7/css/bootstrap.min.css\">\n",
    "<div class=\"row\">\n",
    "   {% for sales_person in sales_people %}\n",
    "      <div class=\"col-md-4\">\n",
    "        <h2>\n",
    "            {{sales_person.name}}\n",
    "        </h2>\n",
    "        <p>\n",
    "            <i class=\"fa fa-phone\"></i>\n",
    "            Phone: {{sales_person.phone}}\n",
    "        </p>\n",
    "\n",
    "        <a class=\"btn btn-primary\">\n",
    "            View details »\n",
    "        </a>\n",
    "        <a class=\"btn btn-danger\">\n",
    "            <i class=\"fa fa-trash\"></i>\n",
    "            Delete\n",
    "        </a>\n",
    "      </div>        \n",
    "   {% endfor %}\n",
    "</div>\n",
    "'''"
   ]
  },
  {
   "cell_type": "code",
   "execution_count": 7,
   "metadata": {
    "slideshow": {
     "slide_type": "subslide"
    }
   },
   "outputs": [
    {
     "data": {
      "text/html": [
       "\n",
       "<link rel=\"stylesheet\" href=\"https://maxcdn.bootstrapcdn.com/bootstrap/3.3.7/css/bootstrap.min.css\">\n",
       "<div class=\"row\">\n",
       "   \n",
       "      <div class=\"col-md-4\">\n",
       "        <h2>\n",
       "            Omri Allouche\n",
       "        </h2>\n",
       "        <p>\n",
       "            <i class=\"fa fa-phone\"></i>\n",
       "            Phone: (541) 123-4567\n",
       "        </p>\n",
       "\n",
       "        <a class=\"btn btn-primary\">\n",
       "            View details »\n",
       "        </a>\n",
       "        <a class=\"btn btn-danger\">\n",
       "            <i class=\"fa fa-trash\"></i>\n",
       "            Delete\n",
       "        </a>\n",
       "      </div>        \n",
       "   \n",
       "      <div class=\"col-md-4\">\n",
       "        <h2>\n",
       "            Steve Jobs\n",
       "        </h2>\n",
       "        <p>\n",
       "            <i class=\"fa fa-phone\"></i>\n",
       "            Phone: (541) 555-6666\n",
       "        </p>\n",
       "\n",
       "        <a class=\"btn btn-primary\">\n",
       "            View details »\n",
       "        </a>\n",
       "        <a class=\"btn btn-danger\">\n",
       "            <i class=\"fa fa-trash\"></i>\n",
       "            Delete\n",
       "        </a>\n",
       "      </div>        \n",
       "   \n",
       "      <div class=\"col-md-4\">\n",
       "        <h2>\n",
       "            Bill Gates\n",
       "        </h2>\n",
       "        <p>\n",
       "            <i class=\"fa fa-phone\"></i>\n",
       "            Phone: (541) 777-8888\n",
       "        </p>\n",
       "\n",
       "        <a class=\"btn btn-primary\">\n",
       "            View details »\n",
       "        </a>\n",
       "        <a class=\"btn btn-danger\">\n",
       "            <i class=\"fa fa-trash\"></i>\n",
       "            Delete\n",
       "        </a>\n",
       "      </div>        \n",
       "   \n",
       "</div>"
      ],
      "text/plain": [
       "<IPython.core.display.HTML object>"
      ]
     },
     "metadata": {},
     "output_type": "display_data"
    }
   ],
   "source": [
    "template = Environment(loader=BaseLoader).from_string(template)\n",
    "output = template.render(**data)\n",
    "display(HTML(output))"
   ]
  },
  {
   "cell_type": "markdown",
   "metadata": {},
   "source": [
    "Twitter Bootstrap offers many more components and functions, including.\n",
    "Check out [the docs](https://getbootstrap.com/docs/3.3/javascript/) for examples."
   ]
  },
  {
   "cell_type": "markdown",
   "metadata": {
    "slideshow": {
     "slide_type": "slide"
    }
   },
   "source": [
    "## Working with Tables\n",
    "To display a table, we can use pandas' `to_html()` function, but we better use the to_html function I wrote that makes working with the table much simpler."
   ]
  },
  {
   "cell_type": "code",
   "execution_count": 10,
   "metadata": {},
   "outputs": [
    {
     "data": {
      "text/html": [
       "\n",
       "    <table class=\"\">\n",
       "        <thead><tr class=\"header\"><th  class=\"unnamed-0 header\" >unnamed-0</th><th  class=\"date header\" >date</th><th  class=\"company_name header\" >company_name</th><th  class=\"sales_person header\" >sales_person</th><th  class=\"client header\" >client</th><th  class=\"industry header\" >industry</th><th  class=\"status header\" >status</th><th  class=\"amount header\" >amount</th></tr></thead>\n",
       "        <tbody>\n",
       "            <tr  class=\"0\" row-id=0><td  class=\"unnamed-0\" >0</td><td  class=\"date\" >9/7/2017</td><td  class=\"company_name\" >Realbridge</td><td  class=\"sales_person\" >Jami McGarvie</td><td  class=\"client\" >Runte Group</td><td  class=\"industry\" >Motor Vehicles</td><td  class=\"status\" ></td><td  class=\"amount\" >170000</td></tr>\n",
       "            <tr  class=\"1\" row-id=1><td  class=\"unnamed-0\" >1</td><td  class=\"date\" >1/14/2017</td><td  class=\"company_name\" >Browsedrive</td><td  class=\"sales_person\" >Romola Krugmann</td><td  class=\"client\" >Bernhard-Bogan</td><td  class=\"industry\" >Specialty Insurers</td><td  class=\"status\" ></td><td  class=\"amount\" >230000</td></tr>\n",
       "            <tr  class=\"2\" row-id=2><td  class=\"unnamed-0\" >2</td><td  class=\"date\" >3/27/2017</td><td  class=\"company_name\" >Skinder</td><td  class=\"sales_person\" >Amelie Buche</td><td  class=\"client\" >Grady, Gaylord and Mosciski</td><td  class=\"industry\" >n/a</td><td  class=\"status\" >Lost</td><td  class=\"amount\" >70000</td></tr>\n",
       "            <tr  class=\"3\" row-id=3><td  class=\"unnamed-0\" >3</td><td  class=\"date\" >2/22/2017</td><td  class=\"company_name\" >Realbridge</td><td  class=\"sales_person\" >Darcie Felipe</td><td  class=\"client\" >Greenholt LLC</td><td  class=\"industry\" >Industrial Machinery/Components</td><td  class=\"status\" ></td><td  class=\"amount\" >210000</td></tr>\n",
       "            <tr  class=\"4\" row-id=4><td  class=\"unnamed-0\" >4</td><td  class=\"date\" >5/7/2017</td><td  class=\"company_name\" >Browsedrive</td><td  class=\"sales_person\" >Ami Perrottet</td><td  class=\"client\" >Hyatt, Dickens and West</td><td  class=\"industry\" >Telecommunications Equipment</td><td  class=\"status\" ></td><td  class=\"amount\" >90000</td></tr>\n",
       "            <tr  class=\"5\" row-id=5><td  class=\"unnamed-0\" >5</td><td  class=\"date\" >11/6/2016</td><td  class=\"company_name\" >Skinder</td><td  class=\"sales_person\" >Brit Duggan</td><td  class=\"client\" >Schaefer Inc</td><td  class=\"industry\" >Catalog/Specialty Distribution</td><td  class=\"status\" ></td><td  class=\"amount\" >140000</td></tr>\n",
       "            <tr  class=\"6\" row-id=6><td  class=\"unnamed-0\" >6</td><td  class=\"date\" >10/18/2016</td><td  class=\"company_name\" >Realbridge</td><td  class=\"sales_person\" >Corbet Strettell</td><td  class=\"client\" >Bernier, Quitzon and Hayes</td><td  class=\"industry\" >Diversified Commercial Services</td><td  class=\"status\" >Lost</td><td  class=\"amount\" >120000</td></tr>\n",
       "            <tr  class=\"7\" row-id=7><td  class=\"unnamed-0\" >7</td><td  class=\"date\" >7/14/2017</td><td  class=\"company_name\" >Browsedrive</td><td  class=\"sales_person\" >Fina Crane</td><td  class=\"client\" >Hammes LLC</td><td  class=\"industry\" >Motor Vehicles</td><td  class=\"status\" ></td><td  class=\"amount\" >160000</td></tr>\n",
       "            <tr  class=\"8\" row-id=8><td  class=\"unnamed-0\" >8</td><td  class=\"date\" >10/5/2016</td><td  class=\"company_name\" >Skinder</td><td  class=\"sales_person\" >Waverly Demangeon</td><td  class=\"client\" >Mosciski, Yost and O'Kon</td><td  class=\"industry\" >Specialty Insurers</td><td  class=\"status\" >Won</td><td  class=\"amount\" >80000</td></tr>\n",
       "            <tr  class=\"9\" row-id=9><td  class=\"unnamed-0\" >9</td><td  class=\"date\" >2/14/2017</td><td  class=\"company_name\" >Realbridge</td><td  class=\"sales_person\" >Zollie Graham</td><td  class=\"client\" >Feil Group</td><td  class=\"industry\" >n/a</td><td  class=\"status\" ></td><td  class=\"amount\" >50000</td></tr>\n",
       "        </tbody>\n",
       "    </table>"
      ],
      "text/plain": [
       "<IPython.core.display.HTML object>"
      ]
     },
     "metadata": {},
     "output_type": "display_data"
    }
   ],
   "source": [
    "import pandas as pd\n",
    "from html_utils import to_html\n",
    "\n",
    "data = pd.read_csv('sales_data.csv')\n",
    "display(HTML(to_html(data.head())))"
   ]
  },
  {
   "cell_type": "markdown",
   "metadata": {
    "slideshow": {
     "slide_type": "slide"
    }
   },
   "source": [
    "## Making tables interactive\n",
    "We can turn any HTML table into an interactive table using DataTables - a Javascript plugin.  \n",
    "DataTables allows:\n",
    "- Sorting\n",
    "- Filtering\n",
    "- Pagination\n",
    "- Export\n",
    "- Group rows\n",
    "- Show/hide/reorder columns/rows\n",
    "- and more...\n",
    "\n",
    "To use it, we need to add a JS code to our page:\n",
    "```\n",
    "<script src=\"https://cdn.datatables.net/1.10.15/js/jquery.dataTables.min.js\"></script>\n",
    "<link href=\"https://cdn.datatables.net/1.10.15/css/jquery.dataTables.min.css\" rel=\"stylesheet\">\n",
    "\n",
    "<script>\n",
    "$(document).ready(function() {\n",
    "    $('table').DataTable({\n",
    "        pageLength: 10\n",
    "    });\n",
    "});\n",
    "</script>\n",
    "```"
   ]
  },
  {
   "cell_type": "markdown",
   "metadata": {
    "slideshow": {
     "slide_type": "slide"
    }
   },
   "source": [
    "# Creating our report\n",
    "Let's write the code to actually create our sales report, automatically."
   ]
  },
  {
   "cell_type": "code",
   "execution_count": 11,
   "metadata": {
    "collapsed": true
   },
   "outputs": [],
   "source": [
    "import os\n",
    "import pandas as pd\n",
    "from jinja2 import Environment, FileSystemLoader\n",
    "import re\n",
    "import matplotlib.pyplot as plt"
   ]
  },
  {
   "cell_type": "markdown",
   "metadata": {
    "slideshow": {
     "slide_type": "slide"
    }
   },
   "source": [
    "## Read data as data frames"
   ]
  },
  {
   "cell_type": "code",
   "execution_count": 12,
   "metadata": {
    "collapsed": true
   },
   "outputs": [],
   "source": [
    "company_name = 'Realbridge'\n",
    "\n",
    "# Read sales data from CSV file\n",
    "data = pd.read_csv('sales_data.csv')\n",
    "# Keep only records of the company of interest\n",
    "data = data[data['company_name']==company_name]\n",
    "data['amount'] = [r['amount'] if r['status']=='Won' else 0 for i,r in data.iterrows()]\n",
    "\n",
    "# Read personal data about each sales person, like phone number, email and image\n",
    "sales_people_data = pd.read_csv('sales_people_data.csv').set_index('sales_person')"
   ]
  },
  {
   "cell_type": "markdown",
   "metadata": {
    "slideshow": {
     "slide_type": "slide"
    }
   },
   "source": [
    "## Compute sales by sales person, by industry and by month"
   ]
  },
  {
   "cell_type": "code",
   "execution_count": 13,
   "metadata": {},
   "outputs": [
    {
     "name": "stderr",
     "output_type": "stream",
     "text": [
      "C:\\Users\\omri.allouche\\Anaconda3\\lib\\site-packages\\ipykernel_launcher.py:8: FutureWarning: using a dict on a Series for aggregation\n",
      "is deprecated and will be removed in a future version\n",
      "  \n"
     ]
    },
    {
     "data": {
      "text/html": [
       "<div>\n",
       "<style>\n",
       "    .dataframe thead tr:only-child th {\n",
       "        text-align: right;\n",
       "    }\n",
       "\n",
       "    .dataframe thead th {\n",
       "        text-align: left;\n",
       "    }\n",
       "\n",
       "    .dataframe tbody tr th {\n",
       "        vertical-align: top;\n",
       "    }\n",
       "</style>\n",
       "<table border=\"1\" class=\"dataframe\">\n",
       "  <thead>\n",
       "    <tr style=\"text-align: right;\">\n",
       "      <th></th>\n",
       "      <th>num_deals</th>\n",
       "      <th>amount</th>\n",
       "      <th>prct_won_deals</th>\n",
       "    </tr>\n",
       "    <tr>\n",
       "      <th>sales_person</th>\n",
       "      <th></th>\n",
       "      <th></th>\n",
       "      <th></th>\n",
       "    </tr>\n",
       "  </thead>\n",
       "  <tbody>\n",
       "    <tr>\n",
       "      <th>Ami Perrottet</th>\n",
       "      <td>32</td>\n",
       "      <td>890000</td>\n",
       "      <td>0.28125</td>\n",
       "    </tr>\n",
       "    <tr>\n",
       "      <th>Anatola Pundy</th>\n",
       "      <td>32</td>\n",
       "      <td>1430000</td>\n",
       "      <td>0.25000</td>\n",
       "    </tr>\n",
       "    <tr>\n",
       "      <th>Bogart Guyonneau</th>\n",
       "      <td>32</td>\n",
       "      <td>1130000</td>\n",
       "      <td>0.31250</td>\n",
       "    </tr>\n",
       "    <tr>\n",
       "      <th>Cassandre Heckner</th>\n",
       "      <td>1</td>\n",
       "      <td>0</td>\n",
       "      <td>0.00000</td>\n",
       "    </tr>\n",
       "    <tr>\n",
       "      <th>Corbet Strettell</th>\n",
       "      <td>2</td>\n",
       "      <td>0</td>\n",
       "      <td>0.00000</td>\n",
       "    </tr>\n",
       "  </tbody>\n",
       "</table>\n",
       "</div>"
      ],
      "text/plain": [
       "                   num_deals   amount  prct_won_deals\n",
       "sales_person                                         \n",
       "Ami Perrottet             32   890000         0.28125\n",
       "Anatola Pundy             32  1430000         0.25000\n",
       "Bogart Guyonneau          32  1130000         0.31250\n",
       "Cassandre Heckner          1        0         0.00000\n",
       "Corbet Strettell           2        0         0.00000"
      ]
     },
     "execution_count": 13,
     "metadata": {},
     "output_type": "execute_result"
    }
   ],
   "source": [
    "# Compute stats (number of deals won, total $ amount won and % of deals won) for each sales person\n",
    "agg_func_dict = {\n",
    "    'num_deals': 'count', \n",
    "    'amount':'sum', \n",
    "    'prct_won_deals': lambda x: sum(x>0)/len(x)\n",
    "}\n",
    "\n",
    "sales_by_sales_person = data.groupby('sales_person')['amount'].agg(agg_func_dict).fillna(0)\n",
    "sales_by_sales_person.head()"
   ]
  },
  {
   "cell_type": "code",
   "execution_count": 14,
   "metadata": {
    "slideshow": {
     "slide_type": "slide"
    }
   },
   "outputs": [
    {
     "name": "stderr",
     "output_type": "stream",
     "text": [
      "C:\\Users\\omri.allouche\\Anaconda3\\lib\\site-packages\\ipykernel_launcher.py:1: FutureWarning: using a dict on a Series for aggregation\n",
      "is deprecated and will be removed in a future version\n",
      "  \"\"\"Entry point for launching an IPython kernel.\n"
     ]
    },
    {
     "data": {
      "text/html": [
       "<div>\n",
       "<style>\n",
       "    .dataframe thead tr:only-child th {\n",
       "        text-align: right;\n",
       "    }\n",
       "\n",
       "    .dataframe thead th {\n",
       "        text-align: left;\n",
       "    }\n",
       "\n",
       "    .dataframe tbody tr th {\n",
       "        vertical-align: top;\n",
       "    }\n",
       "</style>\n",
       "<table border=\"1\" class=\"dataframe\">\n",
       "  <thead>\n",
       "    <tr style=\"text-align: right;\">\n",
       "      <th></th>\n",
       "      <th>num_deals</th>\n",
       "      <th>amount</th>\n",
       "      <th>prct_won_deals</th>\n",
       "    </tr>\n",
       "    <tr>\n",
       "      <th>industry</th>\n",
       "      <th></th>\n",
       "      <th></th>\n",
       "      <th></th>\n",
       "    </tr>\n",
       "  </thead>\n",
       "  <tbody>\n",
       "    <tr>\n",
       "      <th>Catalog/Specialty Distribution</th>\n",
       "      <td>48</td>\n",
       "      <td>2460000</td>\n",
       "      <td>0.375000</td>\n",
       "    </tr>\n",
       "    <tr>\n",
       "      <th>Diversified Commercial Services</th>\n",
       "      <td>48</td>\n",
       "      <td>2060000</td>\n",
       "      <td>0.333333</td>\n",
       "    </tr>\n",
       "    <tr>\n",
       "      <th>Industrial Machinery/Components</th>\n",
       "      <td>48</td>\n",
       "      <td>1980000</td>\n",
       "      <td>0.312500</td>\n",
       "    </tr>\n",
       "    <tr>\n",
       "      <th>Motor Vehicles</th>\n",
       "      <td>48</td>\n",
       "      <td>2260000</td>\n",
       "      <td>0.333333</td>\n",
       "    </tr>\n",
       "    <tr>\n",
       "      <th>Specialty Insurers</th>\n",
       "      <td>47</td>\n",
       "      <td>1580000</td>\n",
       "      <td>0.212766</td>\n",
       "    </tr>\n",
       "  </tbody>\n",
       "</table>\n",
       "</div>"
      ],
      "text/plain": [
       "                                 num_deals   amount  prct_won_deals\n",
       "industry                                                           \n",
       "Catalog/Specialty Distribution          48  2460000        0.375000\n",
       "Diversified Commercial Services         48  2060000        0.333333\n",
       "Industrial Machinery/Components         48  1980000        0.312500\n",
       "Motor Vehicles                          48  2260000        0.333333\n",
       "Specialty Insurers                      47  1580000        0.212766"
      ]
     },
     "execution_count": 14,
     "metadata": {},
     "output_type": "execute_result"
    }
   ],
   "source": [
    "sales_by_industry = data.groupby('industry')['amount'].agg(agg_func_dict).fillna(0)\n",
    "sales_by_industry.head()"
   ]
  },
  {
   "cell_type": "code",
   "execution_count": 15,
   "metadata": {
    "slideshow": {
     "slide_type": "slide"
    }
   },
   "outputs": [
    {
     "name": "stderr",
     "output_type": "stream",
     "text": [
      "C:\\Users\\omri.allouche\\Anaconda3\\lib\\site-packages\\ipykernel_launcher.py:3: FutureWarning: using a dict on a Series for aggregation\n",
      "is deprecated and will be removed in a future version\n",
      "  This is separate from the ipykernel package so we can avoid doing imports until\n"
     ]
    },
    {
     "data": {
      "text/html": [
       "<div>\n",
       "<style>\n",
       "    .dataframe thead tr:only-child th {\n",
       "        text-align: right;\n",
       "    }\n",
       "\n",
       "    .dataframe thead th {\n",
       "        text-align: left;\n",
       "    }\n",
       "\n",
       "    .dataframe tbody tr th {\n",
       "        vertical-align: top;\n",
       "    }\n",
       "</style>\n",
       "<table border=\"1\" class=\"dataframe\">\n",
       "  <thead>\n",
       "    <tr style=\"text-align: right;\">\n",
       "      <th></th>\n",
       "      <th>num_deals</th>\n",
       "      <th>amount</th>\n",
       "      <th>prct_won_deals</th>\n",
       "    </tr>\n",
       "    <tr>\n",
       "      <th>month</th>\n",
       "      <th></th>\n",
       "      <th></th>\n",
       "      <th></th>\n",
       "    </tr>\n",
       "  </thead>\n",
       "  <tbody>\n",
       "    <tr>\n",
       "      <th>1</th>\n",
       "      <td>35</td>\n",
       "      <td>1670000</td>\n",
       "      <td>0.314286</td>\n",
       "    </tr>\n",
       "    <tr>\n",
       "      <th>2</th>\n",
       "      <td>28</td>\n",
       "      <td>700000</td>\n",
       "      <td>0.178571</td>\n",
       "    </tr>\n",
       "    <tr>\n",
       "      <th>3</th>\n",
       "      <td>25</td>\n",
       "      <td>770000</td>\n",
       "      <td>0.240000</td>\n",
       "    </tr>\n",
       "    <tr>\n",
       "      <th>4</th>\n",
       "      <td>34</td>\n",
       "      <td>920000</td>\n",
       "      <td>0.205882</td>\n",
       "    </tr>\n",
       "    <tr>\n",
       "      <th>5</th>\n",
       "      <td>28</td>\n",
       "      <td>1460000</td>\n",
       "      <td>0.392857</td>\n",
       "    </tr>\n",
       "  </tbody>\n",
       "</table>\n",
       "</div>"
      ],
      "text/plain": [
       "       num_deals   amount  prct_won_deals\n",
       "month                                    \n",
       "1             35  1670000        0.314286\n",
       "2             28   700000        0.178571\n",
       "3             25   770000        0.240000\n",
       "4             34   920000        0.205882\n",
       "5             28  1460000        0.392857"
      ]
     },
     "execution_count": 15,
     "metadata": {},
     "output_type": "execute_result"
    }
   ],
   "source": [
    "# Compute stats for each month\n",
    "data['month'] = pd.DatetimeIndex(data['date']).month\n",
    "sales_by_month = data.groupby('month')['amount'].agg(agg_func_dict).fillna(0)\n",
    "sales_by_month.head()"
   ]
  },
  {
   "cell_type": "markdown",
   "metadata": {
    "slideshow": {
     "slide_type": "slide"
    }
   },
   "source": [
    "## Save sales by month as png"
   ]
  },
  {
   "cell_type": "code",
   "execution_count": 16,
   "metadata": {
    "collapsed": true
   },
   "outputs": [],
   "source": [
    "# Plot bar chart, save figure as png, and pass the png filename to the template renderer\n",
    "sales_by_month['amount'].plot(kind='bar')\n",
    "plt.xlabel('Month')\n",
    "plt.ylabel('Sales [$]')\n",
    "plt.tight_layout()\n",
    "figure_amount_won_by_month = 'figure_amount_won_by_month.png'\n",
    "plt.savefig(figure_amount_won_by_month)\n",
    "plt.close()"
   ]
  },
  {
   "cell_type": "markdown",
   "metadata": {
    "slideshow": {
     "slide_type": "slide"
    }
   },
   "source": [
    "## Embedding an External Image File\n",
    "Images are embedded in HTML using the `<img>` tag, with its `src` attribute pointing to the figure file (PNG/JPG etc).  \n",
    "We can display the image inside the html using an `<img>` tag:\n",
    "\n",
    "```html\n",
    "<img src='figure_amount_won_by_month.png' />\n",
    "```"
   ]
  },
  {
   "cell_type": "code",
   "execution_count": 17,
   "metadata": {},
   "outputs": [
    {
     "data": {
      "text/html": [
       "<img src='figure_amount_won_by_month.png' />"
      ],
      "text/plain": [
       "<IPython.core.display.HTML object>"
      ]
     },
     "metadata": {},
     "output_type": "display_data"
    }
   ],
   "source": [
    "display(HTML(\"<img src='figure_amount_won_by_month.png' />\"))"
   ]
  },
  {
   "cell_type": "markdown",
   "metadata": {
    "slideshow": {
     "slide_type": "slide"
    }
   },
   "source": [
    "## Embed an Image Inline as a Base64 String"
   ]
  },
  {
   "cell_type": "code",
   "execution_count": null,
   "metadata": {
    "collapsed": true
   },
   "outputs": [],
   "source": [
    "def save_img_as_base64():\n",
    "    import io\n",
    "    import urllib, base64\n",
    "    buf = io.BytesIO()\n",
    "    plt.savefig(buf, format='png')\n",
    "    buf.seek(0)\n",
    "    string = base64.b64encode(buf.read())\n",
    "    return 'data:image/png;base64,' + urllib.parse.quote(string)"
   ]
  },
  {
   "cell_type": "markdown",
   "metadata": {
    "slideshow": {
     "slide_type": "slide"
    }
   },
   "source": [
    "## Save sales by industry as a Base64 Image"
   ]
  },
  {
   "cell_type": "code",
   "execution_count": 18,
   "metadata": {},
   "outputs": [
    {
     "name": "stdout",
     "output_type": "stream",
     "text": [
      "data:image/png;base64,iVBORw0KGgoAAAANSUhEUgAAAbAAAAEgCAYAAADVKCZpAAAABHNCSVQICAgIfAhkiAAAAAlwSFlzAAALEgAACxIB0t1%2B/AAAIABJREFUeJzs3Xtczvf/P/DHlauc1tmiFSo1qS46kbOUDs6HSKEsTZvz%2BYMxtH02NpvjsEXOVpFDbB85x5RGpBCWVJQ0Oqukruv9%2B8O398%2B1Mq5cevW%2Bet5vN7fpde3K46J6Xu/X%2B/V6vkQcx3EghBBCBEaNdQBCCCGkLqiAEUIIESQqYIQQQgSJChghhBBBogJGCCFEkKiAEUIIESQqYIQQQgSJChghhBBBogJGCCFEkKiAEUIIESQqYIQQQgSJChghhBBBogJGCCFEkMSsA7DSqlUrmJiYsI5BCCGNXkZGBp4%2Bfarw8xptATMxMUFCQgLrGIQQ0ug5OjrW6Xk0hUgIIUSQqIARQggRpEY7hVgXJot%\n"
     ]
    },
    {
     "data": {
      "text/html": [
       "<img src='data:image/png;base64,iVBORw0KGgoAAAANSUhEUgAAAbAAAAEgCAYAAADVKCZpAAAABHNCSVQICAgIfAhkiAAAAAlwSFlzAAALEgAACxIB0t1%2B/AAAIABJREFUeJzs3Xtczvf/P/DHlauc1tmiFSo1qS46kbOUDs6HSKEsTZvz%2BYMxtH02NpvjsEXOVpFDbB85x5RGpBCWVJQ0Oqukruv9%2B8O398%2B1Mq5cevW%2Bet5vN7fpde3K46J6Xu/X%2B/V6vkQcx3EghBBCBEaNdQBCCCGkLqiAEUIIESQqYIQQQgSJChghhBBBogJGCCFEkKiAEUIIESQqYIQQQgSJChghhBBBogJGCCFEkKiAEUIIESQqYIQQQgSJChghhBBBogJGCCFEkMSsA7DSqlUrmJiYsI5BCCGNXkZGBp4%2Bfarw8xptATMxMUFCQgLrGIQQ0ug5OjrW6Xk0hUgIIUSQqIARQggRpEY7hVgXJot%2Bf%2B9/Rsaqwe/9zyCEEFVAV2CEEEIEiQoYIYQQQaICRgghRJCogBFCCBEkWsRBSANRH4uEAFooRFQHXYERQggRJCpghBBCBIkKGCGEEEFSuIA9fPgQ/fv3h5WVFaytrbF%2B/XoAQH5%2BPtzc3GBhYQE3NzcUFBTwz1m5ciXMzc3RsWNHnDhxgh%2B/evUqJBIJzM3NMXPmTHAcBwCoqKjA2LFjYW5uDicnJ2RkZPDP2bVrFywsLGBhYYFdu3bx4%2Bnp6XBycoK5uTnGjh2LFy9eKPyXQQghRDgULmBisRg//vgjUlJSEB8fj02bNiElJQWrVq2Cq6srUlNT4erqilWrVgEAUlJSEB4ejlu3biE6OhpTp06FVCoFAEyZMgVbt25FamoqUlNTER0dDQAIDQ2Frq4u7t27hzlz5mDhwoUAXhbJ4OBg/Pnnn7h8%2BTKCg4P5Qrlw4ULMmTMH9%2B7dg66uLkJDQ5XyF0QIIaRhUngVoqGhIQwNDQEAmpqa6NSpE7KzsxEVFYWYmBgAwMSJE%2BHs7IzvvvsOUVFR8PHxQdOmTWFqagpzc3NcvnwZJiYmKC4uRvfu3QEA/v7%2BOHLkCAYOHIioqCisWLECADB69GhMnz4dHMfhxIkTcHNzg56eHgDAzc0N0dHR8PHxwdmzZ/Hrr7/yf/6KFSswZcqUd/37UVnUFosQInTiQ4cO1fpAs2bNMGjQoH99ckZGBhITE%2BHk5ITc3Fy%2BsLVp0wa5ubkAgOzsbL5IAYCxsTGys7Ohrq4OY2PjGuPVz2nbtu3LgGIxtLW1kZeXJzf%2B6nPy8vKgo6MDsVhc43MRQsi7oDd7DZf42LFjtT5w4cKFfy1gz549g5eXF9atWwctLS25x0QiEUQikVKDKkNISAhCQkIAAE%2BePGGchigL/YAhpHES79ixo9YHJkyY8NonVVZWwsvLC%2BPHj8eoUaMAAK1bt0ZOTg4MDQ2Rk5MDAwMDAICRkREePnzIPzcrKwtGRkYwMjJCVlZWjfFXn2NsbIyqqioUFRVBX18fRkZG/DRl9XOcnZ2hr6%2BPwsJCVFVVQSwWy32uVwUFBSEoKAhA3Q9QI4QQ0jC8dhHH3r17ax3nOA6BgYHo1KkT5s6dy48PGzaMXxW4a9cuDB8%2BnB8PDw9HRUUF0tPTkZqaim7dusHQ0BBaWlqIj48Hx3HYvXu33HOqP1dkZCRcXFwgEong4eGBkydPoqCgAAUFBTh58iQ8PDwgEonQv39/REZG1vjzCSGEqCZ%2BEUdsbCxKSkr4gvA6sbGx2LNnDyQSCWxtbQEA3377LRYtWgRvb2%2BEhoaiffv22L9/PwDA2toa3t7esLKyglgsxqZNm9CkSRMAwObNm/HJJ5%2BgvLwcAwcOxMCBAwEAgYGB8PPzg7m5OfT09BAeHg4A0NPTw5dffomuXbsCAJYtW8Yv6Pjuu%2B/g4%2BODpUuXws7ODoGBgcr%2BuyKEENKAiAHg559/xi%2B//IKPPvoI%2B/fvx/bt21/7hN69e/P7tf7pzJkztY4vWbIES5YsqTHu6OiImzdv1hhv1qwZDhw4UOvnmjRpEiZNmlRj3MzMDJcvX35tbkIIIapFnJmZiV9%2B%2BQUbN26EsbExBg0ahAcPHkBHR6fG4gxCCCGkoVCLiopCYWEh7t%2B/j/Pnz0MmkyEmJkau%2BwUhhBDS0Ij379%2BPzz//HP7%2B/igtLUVoaCj8/f1Z5yKEEEL%2BlTg4OBiurq4AgLy8PKxevZpxJEIIIeTNxNXFCwDatWuHdu3aMYxDCCGEvJ3X7gOr3vBLCCGENETimTNn1hjkOA7nzp1jEIcQQgh5O2IHB4daH%2BjTp089RyGEqIr66E8JUI/Kxk48ceJE1hkIIYQQhSl8oCUhhBDSEFABI4QQIkh8AZPJZCguLmaZhRBCCHlrasXFxSgtLYWNjQ2srKxoIzMhhBBBUNPS0sKRI0cwcOBApKenY8%2BePawzEUIIIW%2BkVllZiSNHjmDYsGFQV1f/17PACCGEkIZCzcTEBKWlpejbty8yMzPpCBVCCCGCIM7OzuY/aN%2B%2BPXXgIIQQIghqgYGBGDhwIAAgJSUFu3btYhyJEEIIeTM1Dw8PPHr0CADw8ccfY926dYwjEUIIIW%2Bm5u3tDTW1l9vBxGIxmjRp8q9PmDRpEgwMDGBjY8OP5efnw83NDRYWFnBzc0NBQQH/2MqVK2Fubo6OHTvixIkT/PjVq1chkUhgbm6OmTNnguM4AEBFRQXGjh0Lc3NzODk5yZ0MvWvXLlhYWMDCwkLuSjE9PR1OTk4wNzfH2LFj8eLFi3f6SyGEENLwqeXl5fErD%2BPj46Gtrf2vT/jkk08QHR0tN7Zq1Sq4uroiNTUVrq6uWLVqFYCXU5Lh4eG4desWoqOjMXXqVEilUgDAlClTsHXrVqSmpiI1NZX/nKGhodDV1cW9e/cwZ84cLFy4EMDLIhkcHIw///wTly9fRnBwMF8oFy5ciDlz5uDevXvQ1dVFaGio8v6GCCGENEhqw4YNQ1paGnr16gV/f39s3LjxX5/Qt29f6OnpyY1FRUWhuinwxIkTceTIEX7cx8cHTZs2hampKczNzXH58mXk5OSguLgY3bt3h0gkgr%2B/v9xzqj/X6NGjcebMGXAchxMnTsDNzQ16enrQ1dWFm5sboqOjwXEczp49i9GjR9f48wkhhKgu8fnz53H37l1wHIeOHTtCXV1d4U%2BSm5sLQ0NDAECbNm2Qm5sLAMjOzkb37t35/8/Y2BjZ2dlQV1eHsbFxjfHq57Rt2/ZlOLEY2trayMvLkxt/9Tl5eXnQ0dGBWCyu8bkIIYSoLvHRo0f5D/766y8AwKhRo%2Br8CUUiUYPdDB0SEoKQkBAAwJMnTxinIYSQ%2BlUf57TV5xlt4mPHjskNiEQihQtY69atkZOTA0NDQ%2BTk5MDAwAAAYGRkhIcPH/L/X1ZWFoyMjGBkZISsrKwa468%2Bx9jYGFVVVSgqKoK%2Bvj6MjIwQExMj9xxnZ2fo6%2BujsLAQVVVVEIvFcp/rn4KCghAUFAQAcHR0VOg1EkIIaVjUduzYgVd/bd%2B%2BXeFPMmzYMH5V4K5duzB8%2BHB%2BPDw8HBUVFUhPT0dqaiq6desGQ0NDaGlpIT4%2BHhzHYffu3XLPqf5ckZGRcHFxgUgkgoeHB06ePImCggIUFBTg5MmT8PDwgEgkQv/%2B/REZGVnjzyeEEKK6xL///jtu3bqF58%2Bf84PLli177RN8fX0RExODp0%2BfwtjYGMHBwVi0aBG8vb0RGhqK9u3bY//%2B/QAAa2treHt7w8rKCmKxGJs2beKX6W/evBmffPIJysvLMXDgQH4zdWBgIPz8/GBubg49PT2Eh4cDAPT09PDll1%2Bia9eufMbqxSTfffcdfHx8sHTpUtjZ2SEwMFD5f1OEEEIaFHFERATOnTuHTz/9FJGRkejWrdu/PiEsLKzW8TNnztQ6vmTJEixZsqTGuKOjI27evFljvFmzZjhw4ECtn2vSpEmYNGlSjXEzMzNcvnz532ITQghRMWq7d%2B%2BGrq4uli9fjkuXLvELOQghhJCGTA0AWrRogUePHkFdXR05OTmsMxFCCCFvJC4sLMSCBQtgb28PkUiEyZMns85ECCGEvJFYR0cHXl5eGDJkCJ4/f/7GVlKEEEJIQ6AGALt374a3tze%2B/PJL5Ofns85ECCGEvJHahQsXsGjRIvj7%2B0NbW5vf6EsIIYQ0ZOKIiAgEBQXBy8sLXl5esLW1ZZ2JEEIIeSO1M2fOwMXFhR%2BoqqpiGIcQQgh5O2rNmzdHnz59AAD37t2jRRyEEEIEQe3ixYt893iZTPbG88AIIYSQhkDcsmVL/oOPP/6YYRRCCCHk7amxDkAIIYTUBRUwQgghgkQFjBBCiCBRASOEECJIVMAIIYQIEhUwQgghgkQFjBBCiCBRASOEECJIVMAIIYQIkkoVsOjoaHTs2BHm5uZYtWoV6ziEEELeI5UpYFKpFNOmTcPx48eRkpKCsLAwpKSksI5FCCHkPVGZAnb58mWYm5vDzMwMGhoa8PHxQVRUFOtYhBBC3hOVKWDZ2dlo27Yt/7GxsTGys7MZJiKEEPI%2BiTiO41iHUIbIyEhER0dj27ZtAIA9e/bgzz//xE8//cT/PyEhIQgJCQEA3LlzB5aWlu8915MnT/Dhhx%2B%2B9z%2BnPqjKa1GV1wHQa2moVOW11NfryMjIwNOnTxV%2Bnvg9ZGHCyMgIDx8%2B5D/OysqCkZGR3P8TFBSEoKCges3l6OiIhISEev0z3xdVeS2q8joAei0Nlaq8lob%2BOlRmCrFr165ITU1Feno6Xrx4gfDwcAwbNox1LEIIIe%2BJylyBicVi/PTTT/Dw8IBUKsWkSZNgbW3NOhYhhJD3pMmKFStWsA6hLBYWFpgxYwZmzZqFvn37so7Dc3BwYB1BaVTltajK6wDotTRUqvJaGvLrUJlFHIQQQhoXlbkHRgghpHGhAkYIIUSQqIC9B1KpFI8ePcKDBw/4X0KUlpaGiooKAEBMTAw2bNiAwsJCxqkUt379ehQXF4PjOAQGBsLe3h4nT55kHeudFRQUIDk5mXWMOlOVf5dX95r%2B2xh5DziiVBs2bOD09fU5KysrzsbGhrOxseEkEgnrWHXSpUsXrrKykktNTeUsLCy4%2BfPncwMHDmQdS2GdO3fmOI7joqOjuZEjR3I3b97k7OzsGKeqm379%2BnFFRUVcXl4eZ2JiwnXr1o2bM2cO61h1oir/LrVltrW1ZZCk8VGZZfQNxfr163H37l3o6%2BuzjvLO1NTUIBaLcfjwYcyYMQMzZsyAnZ0d61gK4/5vndL//vc/%2BPn5wdramh8TmqKiImhpaWHbtm3w9/dHcHAwOnfuzDpWnQj93yUiIgLh4eFIT0/HqFGj%2BPGSkhLo6OgwTPZu4uPjMWPGDNy%2BfRsvXryAVCpFy5YtUVxczDpaDVTAlKxt27bQ1tZmHUMp1NXVERYWhl27duHYsWMAgMrKSsapFOfg4AB3d3ekp6dj5cqVKCkpgZqaMGfPq6qqkJOTg/379%2BObb75hHeedCP3fpVu3btDX10dWVhamTZvGj2tqagryjV616dOnIzw8HGPGjEFCQgJ2796Nv/76i3WsWtEyeiULDAzE3bt3MXjwYDRt2pQfnzt3LsNUdZOSkoKff/4ZPXr0gK%2BvL9LT07F//34sXLiQdTSFyGQyXL9%2BHWZmZtDR0UFeXh6ys7MFeeVy4MABfP311%2BjVqxe2bNmC%2B/fvY8GCBTh48CDraArhOA5ZWVl48uSJSvy7qJLq9lGdO3fm77Ha2dkhMTGRcbKaqIApWXBwcK3jy5cvr%2BckylFeXo4HDx6gY8eOrKPUmaurK86cOfPGMVK/JBIJbty4wTrGO4uKisKiRYvw6NEjcBwHjuMgEoka5JTb2%2Bjbty9Onz6NTz/9FG3atIGhoSF27tyJpKQk1tFqYnTvTeWVlJRwJSUlrGO8k6NHj3Iff/wxZ2JiwnEcxyUmJnJDhw5lnOrtlZeXc3l5eVznzp25/Px8Li8vj8vLy%2BPS09O5jh07so5XJ3fv3uVcXFw4a2trjuM4Likpifv6668Zp6obf39/7vLly6xjvLMOHTpwycnJrGMoTUZGBldeXs4VFRVxK1as4ObMmcOlpqayjlUrKmBKduPGDc7W1pZr164d165dO87e3p67efMm61h1Ym9vzxUWFsqtqKr%2BwSkE69at40xMTDgNDQ3O1NSUMzEx4UxMTLjOnTtzGzduZB2vTvr27cv9%2Beefgv03eVXHjh05NTU1zszMjJNIJIJdsduzZ0/WEZRi8uTJ3KFDh7ji4mLWUd4aLeJQsqCgIKxZswb9%2B/cH8HL/1OTJkxEXF8c4meLU1dVrLEgR0k32WbNmYdasWdi4cSNmzJjBOo5SlJWVoVu3bnJjYrEwv41PnDjBOoJSdO3aFePHj8eIESPk7nsL7TSMwMBAHD9%2BHGvWrIGGhgbc3d3h6emJLl26sI72WsL8ym/ASktL%2BeIFAM7OzigtLWWYqO6sra3x66%2B/QiqVIjU1FRs2bEDPnj1Zx1LYjBkzEBcXh4yMDFRVVfHj/v7%2BDFPVTatWrZCWlgaRSATg5UGuhoaGjFPVTfv27XHx4kWkpqYiICAAT548wbNnz1jHUlheXh7U1NRw9OhRfkwkEgmugDk5OcHJyQkrVqxAXl4eTp48iR9//BE3btyAnZ0dPD094e3tzTqmHFrEoWQjR46Evb09/Pz8AAB79%2B7F1atXcfjwYcbJFFdWVoZvvvmG747g4eGBpUuXolmzZoyTKcbPzw9paWmwtbVFkyZNALz8AbNhwwbGyRR3//59BAUFIS4uDrq6ujA1NcXevXthYmLCOprCgoODkZCQgLt37%2BKvv/7Co0ePMGbMGMTGxrKO1qhVVFTg4MGDyMjIQGVlJTiOw9WrV9GjRw988cUXrOPJoQKmZAUFBVi%2BfDkuXrwIAOjTpw9WrFgBXV1dxskar06dOiElJYW/alEFpaWlkMlk0NTUZB2lzmxtbZGYmAh7e3t%2BifarS7eF4t69e5g2bRoeP36MpKQkJCcn4/fff8fixYtZR6sTT09PaGtrw8HBgX/DBwDz5s1jmKp2NIWoZLq6uoJ8Z18bNzc3HDhwgO8qUFBQAB8fH8Hdu7CxscHjx48FO9UGAGvWrPnXx4W4z1BDQwMikYh/YyHUqfZPP/0U3377Lb%2BZWSKRwNfXV7AFLCsrC9HR0axjvBUqYEoye/ZsrFu3DkOHDq31nf6r8%2BNC8fTpU7mWOLq6uvj7778ZJqqbp0%2BfwsrKCt26dZO7yS6kf5OSkhLWEZTO29sbn332GQoLC7F161Zs374dkydPZh1LYaWlpXL3hkUiEdTV1Rkmejc9e/bEjRs3IJFIWEd5IypgSlJ9z2v%2B/PmMkyiPmpoaHjx4gHbt2gEAMjMzBTkNpwqHjgt1I/y/mT9/Pk6dOgUtLS3cvXsXX331Fdzc3FjHUpi%2Bvj7S09P5740jR46gTZs2jFPV3cWLF7Fz506YmpqiadOm/MbsBjm1y3INvypat27dW40JwfHjx7m2bdtyEyZM4MaPH8%2B1a9eOi46OZh2rTjIyMrhTp05xHMdxpaWlgtrr8ip/f3%2BuoKCA/zg/P58LCAhgmKhuqqqqOGdnZ9YxlCI1NZXr378/17x5c65du3ack5MTd//%2Bfdax6iwjI6PWXw0RLeJQMnt7e1y7dk1urKH2EXsbT58%2BRXx8PACge/fuaNWqFeNEitu6dStCQkKQn5%2BPtLQ0pKam4vPPPxdkK6navpaE%2BvXl6uqKQ4cOqUzz66KiInAcJ%2BhO9EJDU4hKEhYWhl9//RXp6ely%2Bz9KSkqgp6fHMJni7ty5A0tLS74Qf/TRRwDAH85pb2/PMp7CNm3ahMuXL8PJyQkAYGFhIch7ecDLxsQFBQX8qtb8/Hy5vW1C8sEHH0AikcDNzQ0tW7bkx4W2CKq4uBh79%2B6tsc/wTQtvyLujAqYkPXv2hKGhIZ4%2BfSq33FRTU1Nw3bXXrFmDkJCQWpfNikQinD17lkGqumvatCk0NDT4j6uqqgR5Lw94uZS5R48eGDNmDDiOQ2RkJJYsWcI6Vp2MGjVK7hwtoRo0aBDs7e0hkUgE1alGFdAUIlF5//nPf6Cjo4Pdu3dj48aN2Lx5M6ysrAR7nlZKSgr/JsLFxQVWVlaMEzVutd02IPWDCpiSaWpq8u/uX7x4gcrKygZ7mumbdO7cGb6%2BvvD29kaHDh1Yx6kzmUyG0NBQnDx5EhzHwcPDA59%2B%2BqmgrsKKi4uhpaWF/Pz8Wh8X2jQ1AJiamtb6b3D//n0Gaeruhx9%2BgL6%2BPoYMGSK3TUNLS4thqsaBCth7xHEcoqKiEB8fj1WrVrGOo7DMzExEREQgIiICampqGDt2LLy9vfll9aT%2BDBkyBL/99luNH/rc/y1xFtoPfeBlD8Fqz58/x4EDB5Cfn4%2BvvvqKYSrF/fzzz1i4cKHcm1eRSIQHDx4wTqb6qIDVA6GuEntVamoqvv76a%2Bzbtw9SqZR1HIXExsZixYoVyMzMRFVVlaB/6Ks6BwcHXL16lXUMhZiamuLPP/%2BEgYEB6yiNDi3iULJDhw7xv5fJZEhISBBc89tXvXoV1qRJE3z//fesIyksMDAQa9eurdHbTaiys7P5Ylytb9%2B%2BDBPVzav3jaq/V4S4otLc3JymCxmhAqZkx44d438vFothYmKCqKgohonqzsnJCZWVlfD29saBAwdgZmbGOlKdaGtrY%2BDAgaxjKMXChQsREREBKysruc76Qixgr65yrf5e2b9/P8NEdaOlpQU7Ozu4uLjI3QOjZfTvH00hklrJZDKsXr0aCxcuZB3lnS1atAhSqRSjRo2S%2BwEjtP1sANCxY0ckJyfLvQ7CVmhoaK3jgYGB9Zyk8aECpmT379/HrFmzEB8fD5FIhB49emDt2rWCvHpxdHREQkIC6xjv7NUDRqsJcT8bAAwcOBAHDhzABx98wDrKO1u/fj0CAgKgqamJyZMn49q1a1i1ahXc3d1ZR1NYZWUlUlNTIRKJYGFhIdhTsoWGCpiSde/eHdOmTYOvry8AIDw8HBs3bsSff/7JOJniFi1ahFatWmHs2LFynRKEuGRb6GbMmAGRSITs7GwkJSXB1dVV7ipMaN0rAKBLly5ISkrCiRMn8PPPP%2BO///0v/Pz8BLen6sSJE5g8eTLatWsHjuOQlZWFrVu3CrIQCw0VMCWr7UC%2B6m9UoTE1Na0xJsTVe0VFRQgODsaFCxcAAP369cOyZcsE1YNv165d//r4xIkT6ymJ8lR/r8yaNQvOzs4YOXKkIFfsWlpa4ujRo/j4448BAH/99ReGDx%2BO27dvM06m%2BqiAKUn1BtPvvvsOurq68PHxgUgkQkREBAoKCrBy5UrGCRsvLy8v2NjY8D/k9%2BzZg6SkJLkVo0JSXl6OBw8eoGPHjqyjvJOAgABkZ2cjPT0dSUlJkEqlcHZ2Ftwy%2Btqm2lVl%2Br2howKmJNUbTGv76xTiVQsAlJWVYc2aNXjw4AFCQkKQmpqKu3fvYsiQIayjKcTW1hbXr19/45gQHDt2DPPnz8eLFy%2BQnp6O69evY9myZYI6nLOaTCbD9evXYWZmBh0dHeTl5SE7O1twvUOnTp2KrKwseHt7QyQS4cCBAzAyMoKHhwcAyDX3JspFdxqVJD09nXUEpQsICICDgwPi4uIAAEZGRhgzZozgCljz5s1x8eJF9O7dG8DLjc3NmzdnnKpuVqxYgcuXL8PZ2RnAy0IsxDdHwMsDU1u3bo2UlBRB7v%2BqVlJSAm1tbZw4cQLAy3ZyxcXFOHDgAEQiERWw94gKmJKcPXsWLi4ur52WEmLX7bS0NERERCAsLAwA0KJFi1qvMBu6LVu2YOLEifx5TXp6em%2B8p9RQqaur17h3J9QO6Kqyp23Pnj2sIzRaVMCU5Pz583BxcZHbyFxNJBIJsoBpaGigvLyc7%2B%2BWlpYmyP1Htra2SEpK4hsqC7lrgrW1NX799VdIpVKkpqZiw4YN6NmzJ%2BtYdXLkyBHcvXtXkF9TAPDjjz9i3rx5mDt3bq2P00bm948KmJIEBwdDJpNh4MCB8Pb2Zh1HKYKDg%2BHp6YmHDx9i/PjxiI2Nxc6dO1nHUlheXh6Cg4Nx8eJFiEQi9O7dG8uWLYO%2Bvj7raArbuHEjvvnmGzRt2hTjxo2Dh4cHli5dyjpWnZiZmaGyslKwBaz6hAZra2vGSRovWsShZKq2%2BigvLw/x8fHgOA7du3dHq1atWEdSmJubG/r27YsJEyYAAPbt24eYmBicPn2acbK3d%2BDAAQwdOlTQfTX/ycvLS2X2tBE2qIApmSps/s3MzISOjg5/r%2BXcuXM4cuQI2rdvj%2BnTp8udbiwENjY2uHnzptyYRCLBjRs3GCVS3MiRIxEbGwsPDw/4%2BvrCw8ND8I2JX3cfUmh72tzc3Go91%2BzkyZMM0jQuVMCUTBU2/zo5OeHw4cP46KOPcP36dQwYMACLFy9GcnIy1NXVsW3bNtYRFTJ37lx069aNn9qNjIzE5cuX8cMPPzBOppji4mIcPnwY4eHhuH79OoYPHw5fX1/069ePdbRG7dUuO8%2BfP8fBgwfRtGlTrF69mmGqxoEKmJI9f/68xjRPbWMN2avdRObPnw81NTV8//33kMlksLW1rdFppKHT1NREaWkpv1pPJpPxV8cikUiQp2Xn5eUhMjISmzdvRn5%2BPh4%2BfMg60luTSCT/ehq20L6%2BauPk5CTI9nFCQ4s4lKxnz541ernVNtaQvfqe5uzZs3wXEaEu1y4pKWEdQakKCgpw6NAhREREID8/H6NHj2YdSSG//fYb6whK9eobIJlMhqtXr6KgoIBhosaDCpiSPH78GNnZ2SgvL0diYiJfBIqLi1FWVsY4nWJcXFzg7e0NQ0NDFBQUwMXFBQCQk5MjuPtf1ZKTk5GRkSG3YVZIWxuePXuGw4cPIywsDImJiRg2bBi%2B/PJLODs7/%2BvVTEPUvn171hGUytramu/CIxaLYWpqiq1bt7KO1SjQFKKS7Nq1Czt37kRCQgK6du3KFzBNTU188skngvphyXEcIiIikJOTA29vbxgZGQEAEhMT8ffff/MtcoRi0qRJSE5OhrW1NX8VKRK/8p8JAAAgAElEQVSJsH37dsbJ3l6rVq3g6ekJHx8feHh4QF1dnXUkQpijAqZkBw8ehJeXF%2BsY5BVWVlZISUlhHeOdlJeXC7b9lap7Ux9KaiX1/tAUopJlZWWhuLhYJQ7pUxU9evRASkoKrKysWEepM1UsXseOHcPgwYMFe2%2B12pYtWxAXF8f3pzx//jx69uwJfX196oX4ngn7K6cB2r59O7S0tHDy5Enk5eVhz549WLRoEetYjZq/vz969OiBjh07onPnzpBIJILreK6KIiIiYGFhgf/85z%2B4c%2BcO6zh1JpVKkZKSgqioKERFReHWrVuQyWTYs2cPdu/ezTqeSqMrMCWrnpH93//%2BB39/f1hbWwuyAa4qCQwMxJ49eyCRSAT9bl8qlWLhwoWC27/2Onv37kVxcTHCwsLwySefQCQSISAgAL6%2BvtDU1GQd761lZWXx94kB4KOPPsKDBw8YJmo8qIApmYODA9zd3ZGeno6VK1eipKREcD80X7dPh%2BM4iEQiwe3T%2BfDDD1ViGqdJkya4ePEi6xhKpaWlhdGjR6O8vBzr1q3D4cOHsXr1asycORMzZsxgHe%2BtODs7Y/DgwfD19QXw8sqyejqRvF%2B0iEPJVOGQvszMzH99XGjLoKdOnYrCwkIMHTpUrueekFaGVpsyZQqys7MxZswYuVZlQnwtUVFR2LlzJ%2B7duwd/f39MnDgRBgYGKCsrg5WVFTIyMlhHfCscx%2BHAgQP4448/AAB9%2B/bF6NGjBbe9QYiogCnJnTt3YGlp%2BdoNy/b29vWciFQLCAioMSa0ZfTVVOm1TJw4EYGBgbWe/3XmzBm4uroySPX2UlNTYWFhAQCoqqqCWPz/J7SuXLmCrl27sorWaFABU5KgoCCEhISgf//%2BNR4TiUQ4e/Ysg1TvJj4%2BHjNmzMDt27fx4sULSKVStGzZUpCtl0jDs3DhQnz33XdvHGuo7O3t%2BTesr/6%2Bto/J%2ByGsmzMNWEhICICXndv/%2BUuIxQsApk%2BfjrCwMFhYWKC8vBzbtm3DtGnTWMdSWFZWFkaOHAkDAwMYGBjAy8sLWVlZrGPViSq9llOnTtUYO378OIMkdfPqe/9/XgfQdUH9oAKmRHl5edi4cSOmTZuGadOm4aeffkJ%2Bfj7rWO/E3NwcUqkUTZo0QUBAAKKjo1lHUlhAQACGDRuGR48e4dGjRxg6dGitU3FCoAqvZcuWLZBIJLhz5w46d%2B7M/zI1NRXUveJX73H9834X3f%2BqHzSFqCS3b9%2BGi4sLPDw8YGdnB47jkJiYiFOnTuHs2bOwtLRkHVFhffv2xenTp/Hpp5%2BiTZs2MDQ0xM6dO5GUlMQ6mkJsbW1x/fr1N44JgSq8lqKiIhQUFGDx4sVYtWoVP66pqSmoc/MMDAwwYcIEcByHffv28QemchyHX3/9Fbm5uYwTqj4qYEoyevRoeHt782dOVTt48CB%2B/fVXHDx4kFGyusvMzISBgQEqKyuxdu1aFBUVYerUqTA3N2cdTSGurq78/iIACAsLw44dO3DmzBnGyRSnCq/lTbMSQilioaGh//p4YGBgPSVpvKiAKUnHjh1x9%2B5dhR8j719mZiZmzJiBS5cuQSQSoWfPntiwYQPatWvHOprCanstGzduRNu2bVlHe2umpqb8FNs/f/wI7fBXwhZtZFaSV/fkKPJYQ%2BTt7Y39%2B/e/dkOz0DYyt2/f/o0NV4UiKyurxmuJjY0VVAFLT09nHYGoCLoCUxJjY2PMnTu3xjjHcVi3bp2gTszNycmBoaHhazc0C2Uj84IFC2Bubo7PPvtMbvyXX35Benq63P0XoahtebaQl2wXFBQgNTUVz58/58dq2xdGSG3oCkxJJk%2Be/NqTfz/99NN6TvNuDA0NAbzsKmJoaIhmzZoBeHmkh5BuTJ89exbff/99jfHJkyejc%2BfOgipgly5dQlxcHJ48eYI1a9bw48XFxZBKpQyT1d22bduwfv16ZGVlwdbWFvHx8ejRo4dgt52Q%2BkcFTEmWL1/OOoLSjRkzBnFxcfzHTZo0wZgxY3DlyhWGqd5eRUVFrVOgampqgtun8%2BLFCzx79gxVVVVyb5S0tLQQGRnJMFndrV%2B/HleuXEH37t1x7tw53LlzB1988QXrWApbvHgxFi9ejBYtWmDw4MG4fv061q5di3HjxrGOpvKogJHXqqqqgoaGBv%2BxhoYGXrx4wTCRYpo3by7X7qdaamqq4M7X6tevH/r164dPPvkE7du3x7NnzwAAH3zwAeNkddesWTP%2B6r6iogKWlpaCXOx0/PhxrFy5EkeOHMFHH32E8PBwODs7UwGrB1TAyGt9%2BOGHOHr0KN/JPSoqCq1atWKc6u199dVXGDhwIJYuXQoHBwcAQEJCAlauXIl169YxTlc3JSUlsLOz45eit2rVCrt27YKNjQ3jZIozNjZGYWEhRowYATc3N%2Bjq6grm/uqrqqqqALw8QmnMmDHQ1dWljcz1hBZxKFl11wpVkJaWhvHjx%2BPRo0cAXv7A2bNnDzp06MA42du7desWvv/%2Be9y8eRMAYGNjg/nz50MikTBOVjc9e/bEN998w/fcjImJwRdffCE31StE58%2BfR1FRETw9PeWu%2BoVgwYIFOH78OJo0aYKEhAQUFRVh8ODB%2BPPPP1lHU3lUwJTMzMwMXl5eCAgIEPQR9jKZDJGRkfD29hbsdNXKlSvh6ekJOzs71lGUpkuXLjU6odQ21pAVFxdDS0vrtRuahbKR%2BVV///039PT0IBaLUVpaisLCQrlDLsn7QQVMyUpKShAeHo4dO3ZAJpNh0qRJ8PHxgZaWFutoCnN0dERCQgLrGHUWERGB48ePIykpCV26dMHAgQPh7u4OXV1d1tHqbOTIkbC3t4efnx%2BAl6caX716FYcPH2ac7O0NGTIEv/32G7%2Bhufqg1Or/CnEj8%2BXLl5GRkcFPJwKge2D1gArYe3T%2B/HmMGzcOhYWFGD16NL788ktBtWFatGgRWrVqhbFjx8ptxhbiO%2BTExERER0fj5MmTkEqlGDBgADw9PdGtWzfW0RRSUFCA5cuX8ycz9%2BnTBytWrBB0URa6Tz75BCkpKbC1teVvH4hEImzevJlxMtVHBUzJpFIpfv/9d%2BzYsQMZGRnw8/PD%2BPHj8ccff%2BCLL77AX3/9xTriWzM1Na0xJtR3yK8qLi7GqVOncOLECf4YHFL/Dh8%2BDBcXF2hrawMACgsLERMTgxEjRjBOphhLS0ukpKRATY0O96hvVMCUzMzMDP3790dgYCB69uwp99jMmTOxYcMGRskaLwcHB0yaNAnjxo0T7JVK9UrQ1xFiq6zauujb2dkhMTGRUaK68fLywubNm9G6dWvWURodWkavZLt370bv3r3lxmJjY9GrVy/BFa%2BysjKsWbMGDx48QEhICFJTU3H37l0MGTKEdTSFREREYMeOHejatSscHR0REBAAd3d3QS11vnTpEtq2bQtfX184OTkJbiN2bWQyWY2xV%2B8hCUVRURGsrKzQvXt3NG3alB8/dOgQw1SNA12BKZkq9aobO3YsHBwcsHv3bty8eRNlZWXo2bOnoM6eepVMJsNvv/2GKVOm8Ad0zpo1SxD39KRSKU6dOoWwsDAkJydj8ODB8PX1hbW1NetodTZp0iTo6Ojwp3xv2rQJ%2Bfn52LlzJ9tgCnrdUTaurq71nKTxoSswJVHFXnVpaWmIiIhAWFgYAKBFixaCfeefnJyMHTt24H//%2Bx%2B8vLwwfvx4XLx4ES4uLoIoyE2aNIGnpyc8PT1RUVGBsLAwODs7Y/ny5Zg%2BfTrreHWyceNGfP311xg7dixEIhHc3NywadMm1rEU5urqiqdPn/Irdh0dHQW14V/IqIApiSr2qtPQ0EB5eTk/1ZaWliY3RSIUDg4O0NHRQWBgIFatWsW/BicnJ8TGxjJO9/YqKirw%2B%2B%2B/IywsDBkZGZg5cyZGjhzJOladtWzZEqtWrUJpaangjhx61cGDBzFnzhz06dMHHMfh888/x9q1awX9byMYHFGqjIwM1hGU5uTJk1zfvn25Vq1acePGjePat2/PnTt3jnUshUilUu6bb75hHeOd%2Bfn5cXZ2dtySJUu4GzdusI6jFLGxsVynTp24tm3bchzHcdevX%2BemTJnCOJXiOnfuzD1%2B/Jj/%2BPHjx1znzp0ZJmo86B6YkgwdOvRfFwUIcZUYAOTl5SE%2BPh4cx6F79%2B6CnBoR%2BoZs4GUH/eqrlFe/zrj/2/xbXFzMKlqdOTk5ITIyEsOGDeNXHtrY2PBtv4RCIpHgxo0b/Mccx6Fz585yY%2BT9oClEJZk/fz7rCO9FdnY2pFIpqqqqcOHCBQDAqFGjGKdSzIABA/DDDz8IekN2bSv2VME/T5IWYh9Rd3d3flENAISHh8PDw4NxqsaBCpiS9OvXj3UEpZs0aRKSk5NhbW3Nb9IUiUSCK2AREREAILdAQBU2ZAtd27ZtERcXB5FIhMrKSqxfvx6dOnViHUthP/zwA/bv38/fT504cSJGjx7NOFXjQFOISpaamorFixcjJSVF7ph0If6wtLKyQkpKCusYREU9ffoUs2bNwunTpyGTyeDh4YH169dDX1%2BfdTQiEHQFpmQBAQEIDg7GnDlzcO7cOb6prxD16NEDKSkpgu6qD6jOhmxV06pVK%2Bzbt491jDrr168fzp8/X%2BP8r%2Br7kq/rtk%2BUh67AlMzBwQFXr16Vu7FbPSY058%2Bfx7Bhw9CmTRs0bdqU/8ZMTk5mHU0hqrYhW1Xcv38fs2bNQnx8PEQiEXr06IG1a9fCzMyMdbS3IpPJoKam9tp9nkK8nyc01H1SyZo2bQqZTAYLCwv89NNPOHz4MH%2BeltAEBgZiz549iI6OxrFjx/Dbb7/h2LFjrGMpLC0tDf/5z3%2Bgrq4OQNgbslXJuHHj4O3tjZycHDx69AhjxozhF0IIQfV94cDAQDRp0kTuV2BgION0jQMVMCVbv349ysrKsGHDBly9ehV79uzBrl27WMeqkw8//BDDhg2Dqakp2rdvz/8SGlXZkK1qysrK4OfnB7FYDLFYjAkTJsjdNxaKf85ISKVSXLlyhVGaxoWmEMlrTZ06FYWFhRg6dKjcD3yhrUI8deoU/vvf/yIlJQXu7u6IjY3Fzp074ezszDpao7Zw4ULo6urCx8cHIpEIERERKCgowIIFCwA0/G0O3333HVatWoWSkhL%2BwNrqafbAwECsXr2acULVRwVMSWbPno1169a9dkOzEDcyBwQE1BgTiUTYvn07gzTvRhU2ZKua2s6bqyaEbQ4cx0EqlWLx4sVYtWoVP073vuoPFTAluXr1KhwcHHD%2B/PlaH1fFfWJCkp2djczMTLnjOvr27cswEVElRUVFSEtLk5sC/ed5gET5qIApWWlpKZo3b87f4JVKpaioqECLFi0YJ1Nceno6Nm7ciIyMDLkf/EK7mly4cCEiIiJqbMgW2utQFVeuXEHbtm3Rpk0bAC/P0Dt48CDat2%2BPFStWNPipw3/avn07fvzxR2RnZ0MikeDKlSvo3r07YmJiWEdTeVTAlKx79%2B44ffo0PvjgAwDAs2fP4O7ujri4OMbJFNelSxcEBgZCIpHIHZcutKvJjh07Ijk5mRZuNBD29vY4ffo09PT0cOHCBfj4%2BGDjxo24fv06bt%2B%2BLbjTGyQSCS5fvowePXrg%2BvXruHXrFpYtW4aDBw%2ByjqbyaCOzkj1//pwvXgDwwQcfoKysjGGiumvWrBlmzpzJOsY7MzMzQ2VlJRWwBkIqlfJXWREREQgKCoKXlxe8vLxga2vLOJ3imjVrhubNmwN4eayStbU17t69yzhV40AFTMlatmyJa9euwd7eHsDLe2PVX9xCM2vWLAQHB8Pd3V3uh3/1axOKFi1awNbWFq6urnKvY8OGDQxTNV7VzaHFYjHOnDmDkJAQ/rFXp6qFwtDQkF%2Bt6%2BHhAT09PRgbG7OO1ShQAVOydevWYcyYMfjoo4/AcRweP37MN5MVmhs3bmDPnj04e/as3L2js2fPMk6mmGHDhmHYsGGsY5D/4%2Bvri379%2BqFVq1Zo3rw5%2BvTpAwC4d%2B8etLW1GadTXPW91K%2B//hpnzpxBUVERBg8ezDhV40D3wN6DyspKfgqhY8eOfAcIoTE3N0dKSgo0NDRYRyEqJj4%2BHjk5OXB3d%2BePuPnrr7/w7NkzwV3hX7lyBZ06deJvHZSUlODu3btwdHRknEz1UQFTsurGsZmZmdi6daugG8eOGDECISEhMDAwYB2lTry9vbF//35IJJJa9%2BYJracjaZjs7Oxw9epVfpZCJpOha9eugux/KjQ0hahkAQEBcHBwwKVLlwAARkZGGDNmjCALWGFhISwtLdG1a1e5e0dCWX6%2Bfv16AMBvv/3GOAlRZdVNfaupqamhsrKSYaLGgwqYkqWlpSEiIgJhYWEAhN04Njg4mHWEd2JoaAgAguzfSITD1NQUW7ZsQVBQEEQiEbZs2QITExPWsRoFauarZKrUOLZfv36wtLRESUkJSkpK0KlTJ8HtAQOAQ4cOwcLCAtra2tDS0oKmpibfu46Qd/XLL7/gzJkzaN26NVq3bo3z589j69atrGM1CnQPTMlUqXHs/v37sWDBAjg7O4PjOPzxxx9YvXq14I5LNzc3x7FjxwR5XD0h5PWogL0HqtI4tkuXLjh16hS/iOPJkycYMGAAkpKSGCdTTK9evRAbG8s6BlExP/74I%2BbNm4c5c%2BbUukhozZo1DFI1LnQP7D04f/48Ll68CJFIhMrKSowcOZJ1pDqRyWRyKxD19fUhk8kYJlLMoUOHAACOjo4YO3YsRowYIehjYUjD0qFDBwCAjY0N4ySNF12BKdnUqVNx7949/mTZiIgIdOjQAZs2bWKcTHELFixAcnKy3GuRSCT4/vvvGSd7O7UdB1NNqMfCEEL%2BPypgSmZpaYnbt2/zUwoymQzW1ta4ffs242R1c%2BjQIVy8eBEA0KdPH8FeTRLyvty7dw9r1qypcWrDyZMnGaZqHGgKUcnMzc3x4MEDfun2w4cPYW5uzjiVYu7du4fc3Fz06tULo0aN4qfaLl68iLS0NH7qRCgmTpyI9evXQ0dHBwBQUFCAefPm0RUYUYrRo0cjMDAQEyZMoMMs6xkVMCWrXm7erVs3AC/bzDg6OvK9%2BISwCXj27NlYuXJljXFtbW3Mnj0bx44dY5Cq7pKTk/niBQC6urpITExkmIioEjU1NcyYMYN1jEaJCpiSffXVV6wjvLPc3FxIJJIa4xKJBBkZGfUf6B3JZDIUFBRAV1cXAJCfny/IruekYRo%2BfDhCQkIwcuRIuUVCtNfw/aMCpmTVG33z8vJw4cIFtGvXDg4ODoxTKaawsPC1j5WXl9djEuWYN28eevTogTFjxoDjOERGRmLJkiWsYxEVsW3bNgAvu9FXE4lEePDgAatIjQYt4lCSIUOGYNWqVbCxsUFOTg7s7e3h6OiItLQ0BAUFYfbs2awjvjVfX1%2B4uLhg8uTJcuPbtm3DqVOnBHk8zK1bt3Du3DkAgIuLC6ysrBgnIoS8KypgSmJtbY1bt24BAL799lvcuXMHu3fvRklJCXr16iWozue5ubkYOXIkNDQ0%2BKvHhIQEvHjxAocPH0abNm0YJ6ybv//%2BG8%2BfP%2Bc/bteuHcM0RFX8%2BuuvtY6PGzeunpM0PjSFqCSvnvl15swZ/upFU1NTrlO1ELRu3RpxcXE4d%2B4cbt68CQAYPHgwXFxcGCerm6NHj2LevHl49OgRDAwMkJmZiU6dOvFvOAh5F3/88Qf/%2B%2BfPn%2BPs2bNwcHCgAlYP6ApMSYYOHQp3d3cYGxtj0qRJSE9Ph46ODsrLy%2BHo6Eg/LBnq0qULzp49iwEDBiAxMRHnzp3D3r17ERoayjoaUUEFBQUYN24cjh8/zjqKyhPWpUEDFhoailu3bmHnzp2IiIjgl23Hx8f/a0cI8v6pq6vzbbBkMhn69%2B%2BPhIQE1rGIitLU1MT9%2B/dZx2gUaApRSUJDQ/HZZ5/Bzs5Obrx///7o378/o1QEAHR0dPDs2TP07dsX48ePh4GBAX%2BMPSHvauTIkXKdd27duoURI0YwTtU40BSikkREROD48eNISkpCly5dMHDgQLi7u/N7jwg7paWlaNasGTiOw759%2B1BUVITx48dDX1%2BfdTSiAs6cOcP/XiwWo3379nSgZT2hAvYeJCYmIjo6GidPnoRUKsWAAQPg6enJd%2Bdo6DQ1NWs9HqJacXFxPaYhRBjKysrkNsjTRub3jwrYe1ZcXIxTp07hxIkTCAkJYR1HIV9%2B%2BSUMDQ3h5%2BfHX73k5OQIptvIPwsxx3EQiUT8f6kQE2UIDQ3F0qVL0aRJE6ipqfFfX7SR%2Bf2jAqZk1WdQvUpbWxsSiUTubC0h6NKlS43DK2sba6hGjBiBx48fY9SoUfDx8aF9X%2BS9sLCwQGxsrOC%2Bv1UBLeJQstDQUFy6dIlfuBETEwMHBwekp6dj2bJl8PPzY5zw7bVs2RL79u2Dj48PRCIRwsLCBLX44ciRIygqKsKhQ4cwefJkPH/%2BHGPHjoWPjw/09PRYxyMqwszMjKYLGaErMCXz8PDA7t270bp1awAvu1r4%2B/sjLCwMffv25TcGC0FGRgZmzZqF2NhYiEQi9OrVC%2BvWrRPkDWqZTIbw8HDMnDkTX3zxBebOncs6ElERiYmJ%2BPTTT9G9e3e5Zr5r1qxhmKpxoCswJXv48CFfvADAwMAADx8%2BhJ6enly3DiEwMTFBVFQU6xjvJC4uDmFhYfjjjz/Qu3dvHD58GH369GEdi6iQzz//HL169YJEIhFc1x2howKmZM7OzhgyZAjGjBkDAIiMjISzszNKS0vlzqQSgr/%2B%2BgtTpkxBbm4ubt68ieTkZBw9ehRLly5lHe2tmJiYQEdHBz4%2BPggJCYFY/PLL/dq1awAAe3t7lvGIiqioqMCGDRtYx2iUaApRyTiOw6FDh3Dx4kUAQK9eveDl5fWvy9Ibqn79%2BmH16tX47LPP%2BAMgbWxsBDMN6uzszP%2B9V68%2BrCYSiXD27FlW0YgKWbJkCTp06IChQ4fSeWD1jK7AlEwkEqF3797Q0NCASCRCt27dBFm8gJf7Wv65d636KkYIYmJiWEcgjcDu3bsBAMuXL%2BfHaBl9/RDOTyOB2L9/PxYsWABnZ2dwHIcZM2Zg9erVGD16NOtoCmvVqhXS0tL4AhwZGQlDQ0PGqQhpWB4%2BfMg6QqNFU4hK1qVLF5w6dYrfE/LkyRMMGDBAMHunXnX//n0EBQUhLi4Ourq6MDU1xd69ewW5CpGQ90UmkyE6OhoZGRlynThmzpzJMFXjQFdgSiaTyeQ2NFZ3QRciMzMznD59GqWlpZDJZNDU1GQdiZAGZ/jw4RCJRLQKkQEqYErm6ekJDw8P%2BPr6AnjZ5HfQoEGMUylm7969mDBhwmv3sQhlD1X1asPXoVWIRBkyMjJw48YN1jEaJSpgSrZ69WocPHgQsbGxAICgoCCMHDmScSrFlJWVAQBKSkoYJ3k38%2BbNe%2B1jtAqRKIuHhwfOnj0r2BPLhYwK2Hvg5eUFLy8v1jHqLC0tDQBgZWXF72cTonPnzrGOQBqBPn36YOjQoRCJRNDQ0OCb%2Bebn57OOpvJoEYeSvO4IEiF2PpdIJEhOToaDg8Mbp%2BGE4ubNm0hJScHz58/5MX9/f4aJiKowNTXFwYMHa9wDa9KkCcNUjQNdgSmJ0KfbXuXp6QldXV08e/ZMbjOmEIsxAAQHByMmJgYpKSkYNGgQjh8/jt69e1MBI0phbGwMOzs7we73FDK6AntP/v77b7l3%2B0I8ymP48OGC74UIvLyiTEpKgp2dHZKSkpCbm4sJEybg1KlTrKMRFRAQEICMjAwMGjRIrhMHLaN//%2BgKTMmOHj2KefPm4dGjRzAwMEBmZiY6deqEW7dusY6mMFUoXgDQvHlzqKmpQSwWo7i4mG%2BwTIgyGBsbw9jYWHAzE6qACpiSffnll4iPj8eAAQOQmJiIc%2BfOYe/evaxjKaR37964ePEif1/vnz0EhfaN6ujoiMLCQkyePBkODg744IMP0KNHD9axiIr4%2BuuvAQDl5eUAXr5hIvWDphCVzNHREQkJCejSpQsSExOhpqYmqFOMVV1GRgaKi4vRuXNn1lGIikhJScHEiRORk5MDADAyMsLOnTvRqVMnxslUH12BKZmOjg6ePXuGvn37Yvz48TAwMBDUKcavSktLg7GxMZo2bYqYmBgkJyfD399fMMfC3LlzB5aWlrWupLx27RptZCZKERQUhG%2B//RZubm4AgNOnT2Py5Mn8iRTk/aErMCUrLS1F8%2BbNIZPJsG/fPhQVFWHChAmCPMLe1tYWCQkJ/A3q4cOH49atW/jf//7HOtpbCQoKQkhICPr371/jMdrITJSlthkWmnWpH1TAlGzhwoX47rvv3jgmBPb29rh27RpWr16NZs2aYcaMGbCzs%2BPPBhMCmUyGS5cuoVevXqyjEBU1fPhwdO/eHX5%2BfgBetmK7dOmSyiyCasio86SS1bY0%2B/jx4wySvDt1dXWEhYVh165dGDJkCACgsrKScSrFqKmpYfr06axjEBW2fft2PHz4EIMGDcLgwYORlZWF7du3s47VKNA9MCXZsmULNm/ejPv378stECgpKRHsu/8dO3bg559/xpIlS2Bqaor09HT%2BXaaQuLq64uDBgxg1ahRtNiVKp6%2Bvj82bN7OO0SjRFKKSFBUVoaCgAIsXL8aqVav4cU1NTUHe/5JKpfD398e%2BfftYR3lnmpqaKC0thVgsRrNmzQTbUYQ0TJ6enggPD%2BcXNxUUFGDChAn4/fffGSdTfXQFpiTa2trQ1tZGWFgYgP/fiePZs2d49uyZ4DpxNGnSBJmZmXjx4gU0NDRYx3knqtTmizQ8ubm5citzdXV18ejRI4aJGg8qYEp27NgxzJ07VyU6cZiZmaFXr14YNmyY3FYAoZwHVs3V1RVnzpx54xghdaGmpoasrCwYGxsDAB48eMA4UeNBBUzJli5dKvhOHNU6dOiADh06QCaTCfIq5vLeXf8AAAlzSURBVPnz5ygrK8PTp09RUFDAdxQpLi5GdnY243REVXz11Vfo1asXXFxcwHEcYmJisGXLFtaxGgW6B6ZkqtiJo6ysDC1atGAdQ2Hr16/HunXr8OjRIxgZGfEFTEtLC5MnT6bViURpcnNzcenSJQBAz549YWBgwDhR40DL6JXsn504Zs2aJdhOHJcuXYKVlRUsLS0BAElJSZg6dSrjVG9v1qxZSE9Pxw8//ID79%2B8jPT0d6enpSEpKouJFlOrcuXO4desWRowYgYqKCly9epV1pEaBCpiSRUVFoUWLFli7di08PT3RoUMHHDt2jHWsOpk9ezZOnDgBfX19AC%2B7C1y4cIFxKsW1adOGnwL973//i1GjRqnMQZ2EvenTp8vdKmjZsiU%2B//xzxqkaBypgSnLv3j3ExsaiZcuW/NEdEydOhL29PQoLC1nHq7O2bdvKfSzEU2a//vpraGpq4uLFizh9%2BjQCAwMxZcoU1rGIioiLi8Mvv/yCZs2aAQD09PTw4sULxqkaBypgSjJ79my504uraWtrY/bs2QwSvbu2bdsiLi4OIpEIlZWV%2BOGHHwTZYbu66P7%2B%2B%2B8ICgrC4MGD6QcMURp1dXXIZDJ%2Bk3xeXh7U1OhHa32gv2Ulyc3NhUQiqTEukUiQkZFR/4GU4Oeff8amTZuQnZ0NIyMjXL9%2BHZs2bWIdS2FGRkb47LPPEBERgUGDBqGiogIymYx1LKIipk2bBi8vLzx58gTLly9H7969sXDhQtaxGgVahagkFhYWSE1NrfUxc3Nz3Lt3r54TvbsnT57gww8/ZB3jnZWVlSE6OhoSiQQWFhbIycnBjRs34O7uzjoaURG3bt3C6dOnwXEcBgwYABsbG9aRGgUqYEri6%2BsLFxcXTJ48WW5827ZtOHXqFCIiIhglq7uPP/4YJiYmGDt2LLy8vARzDtg/vW5jqdC6o5CG5U2tyGq7pUCUiwqYkuTm5mLkyJHQ0NCAg4MDACAhIQEvXrzA4cOH0aZNG8YJ6%2Bby5csIDw/HkSNHYGVlBR8fH0yYMIF1LIVIJBKIRCJwHIfnz58jPT0dHTt2FGR3FNJwtG3blv%2B6qlb9sUgkoo4c9YAKmJKdO3cON2/eBABYW1vDxcWFcSLlePr0KebOnYt9%2B/ZBKpWyjvNOrl27hs2bN2Pbtm2soxBC3gEVMPJaxcXFOHz4MMLDw5GWloaRI0fC29ubv8IUMolEghs3brCOQVREeHg47t%2B/jy%2B%2B%2BAJZWVnIzc1Vie%2BTho4KGHktU1NTjBgxAt7e3ujRowfrOHW2Zs0a/vcymQzXrl1DXl4eTpw4wTAVURXTp09HZWUlLly4gNu3byM/Px8eHh64cuUK62gqj5r5kte6f/%2B%2BShwA%2BWojYrFYjMGDB8PLy4thIqJK4uLicO3aNdjZ2QGgjcz1iQoYqWH27NlYt24dhg0bVmsBO3r0KINUdbd8%2BXLWEYgKo43M7FABIzX4%2BfkBAObPn884ybsZOnTov15BCq0Qk4alqqoKYrG4xkbm/fv305umekL3wMi/evLkCQAIckPz%2BfPnAQCHDh3C48eP%2BeX/YWFhaN26NdauXcsyHhE4e3t7vik0bWRmgwoYqdWKFSvw008/QSaTgeM4iMVizJgxA8uWLWMdTWHVZ7S9aYwQRdjZ2SExMZF1jEaNphBJDWvWrEFsbCyuXLkCU1NTAC8XdEyZMgVr167FnDlzGCdUTGlpKe7fvw8zMzMAQHp6OkpLSxmnIkL35MkTuRWu/zR37tx6TNM4UQEjNezZswenTp1Cq1at%2BDEzMzPs3bsX7u7ugitga9euhbOzM8zMzMBxHDIzM/HLL7%2BwjkUETiqV4tmzZ6BJLHZoCpHUYGNjw3cTUeSxhqyiogJ37twBAFhaWqJp06aMExGhe/UeGGGDrsBIDRoaGnV6rCG7evUqMjIyUFVVhaSkJACAv78/41REyOi9P3t0BUZqaNKkCVq2bFljvLoZbmVlJYNUdefn54e0tDTY2tryh1uKRCJs2LCBcTIiZPn5%2BdDT02Mdo1GjAkZUXqdOnZCSkqISXUUIIf8fbRcnKs/GxgaPHz9mHYMQomR0D4yovKdPn8LKygrdunWTW7xBnTgIETaaQiQqr7ojxz/169evnpMQQpSJChghhBBBoilEorI0NTVrXbhRfeR7cXExg1SEEGWhKzBCCCGCRKsQCSGECBIVMEIIIYJEBYwQQoggUQEjpB598MEHCv3/MTExGDJkSJ3%2BrHXr1qGsrKxOzyVECKiAEaKi/q2ASaXSek5DiPJRASOEgZiYGDg7O2P06NGwtLTE%2BPHj%2Be7m0dHRsLS0hL29PQ4dOsQ/Z8WKFfjhhx/4j21sbJCRkYHS0lIMHvz/2rt/l%2BSiOI7j79RAjHBqOTQUpCglFkUO0eBWuCQSDtlgUVNbSEtT1FhDS9AShCD9AUFwIYcINxskaImcXFyKCBqiniG4PA/0PPGAZoc%2Br%2B1yzz3nfqfPPffXSRGPxxkZGeHk5IT9/X0ajQbJZJJkMgm8z/7W19eJx%2BPs7OwwNzfn9uU4Dul0%2BouqF2kNfQcm0iFXV1dcX19jjGFqaorLy0smJiZYWVnh/PycoaEhstnsp/2cnZ1hjOH09BSAh4cHgsEge3t7lMtld2HSp6cnEokEu7u7vL29EY1GaTab9PX1cXR0xNLSUlvrFWk1zcBEOmRycpL%2B/n48Hg%2Bjo6PU63Vubm4YHBwkFArR1dVFLpf7tJ9YLIbjOGxsbHBxcUEwGPywndfrJZPJAO/LySwuLlIsFrm/v6dSqTA7O9vS%2BkTaTQEm0iG//1jY6/Xy8vLyz/Y%2Bn4/X11d3%2B/n5GYBwOEy1WiUWi7G5ucnW1taHx/v9fnc9NIB8Pk%2BxWKRUKjE/P4/PpxsyYhcFmMg3EolEqNfr3N7eAlAqldx9AwMD7hL21WqVu7s7ABqNBoFAgFwuR6FQcNv09vby%2BPj417GMMRhj2N7eJp/Pt6skkbbRJZfIN%2BL3%2Bzk8PCSVShEIBJiennZDKJPJcHx8zPDwMIlEgnA4DECtVqNQKODxeOju7ubg4ACA1dVVZmZmMMZQLpc/HG9hYYFms0k0Gv2aAkVaSP9CFPnB1tbWGBsbY3l5udOnIvLfFGAiP9T4%2BDg9PT04jvPH8zgRWyjARETESnqJQ0RErKQAExERKynARETESgowERGxkgJMRESspAATERErKcBERMRKCjAREbGSAkxERKykABMRESv9AvW37EW9EMHdAAAAAElFTkSuQmCC' />"
      ],
      "text/plain": [
       "<IPython.core.display.HTML object>"
      ]
     },
     "metadata": {},
     "output_type": "display_data"
    }
   ],
   "source": [
    "# Plot bar chart, this time save it as a base64 image inline the html document\n",
    "sales_by_industry['amount'].plot(kind='bar')\n",
    "plt.tight_layout()\n",
    "plt.xlabel('Industry')\n",
    "plt.ylabel('Sales [$]')\n",
    "figure_amount_won_by_industry = save_img_as_base64()\n",
    "plt.close()\n",
    "print(figure_amount_won_by_industry[:500])\n",
    "display(HTML(\"<img src='{}' />\".format(figure_amount_won_by_industry)))"
   ]
  },
  {
   "cell_type": "markdown",
   "metadata": {
    "slideshow": {
     "slide_type": "slide"
    }
   },
   "source": [
    "## Prepare data for compilation"
   ]
  },
  {
   "cell_type": "code",
   "execution_count": 19,
   "metadata": {
    "collapsed": true
   },
   "outputs": [],
   "source": [
    "# We pass to the render function a dict with our data.  \n",
    "# For example, data['company_name'] will be available in the template as {{company_name}}\n",
    "data = {\n",
    "    'company_name': company_name,\n",
    "    'sales_by_sales_person': sales_by_sales_person,\n",
    "    'sales_people_data': sales_people_data,\n",
    "    'figure_amount_won_by_industry': figure_amount_won_by_industry,\n",
    "    'figure_amount_won_by_month': figure_amount_won_by_month,\n",
    "    'to_html': to_html\n",
    "}"
   ]
  },
  {
   "cell_type": "markdown",
   "metadata": {},
   "source": [
    "We can pass strings, dict, lists, data frames and even functions.  "
   ]
  },
  {
   "cell_type": "markdown",
   "metadata": {
    "slideshow": {
     "slide_type": "slide"
    }
   },
   "source": [
    "The syntax of Jinja2 is similar to Python's, with small modifications:\n",
    "\n",
    "```python\n",
    "{% for sales_person, sales_person_data in sales_people_data.iterrows() %}\n",
    "    <h4>\n",
    "        {{sales_person}}\n",
    "    </h4>\n",
    "\n",
    "    <img src=\"{{sales_person_data.image}}\"\" />\n",
    "\n",
    "    {% if sales_person_data.phone %}\n",
    "        <a href=\"tel:{{sales_person_data.phone}}\">\n",
    "            {{sales_person_data.phone}}\n",
    "        </a>\n",
    "    {% endif %}\n",
    "\n",
    "    {% if sales_person in sales_by_sales_person.index %}\n",
    "        {% set person_data = sales_by_sales_person.loc[sales_person] %}\n",
    "        {{sales_person}} won {{person_data.prct_won_deals|percent}}%\n",
    "        of his {{person_data.num_deals|int}} deals, earning ${{person_data.amount|int}}.\n",
    "    {% endif %}\n",
    "{% endfor %}\n",
    "```"
   ]
  },
  {
   "cell_type": "code",
   "execution_count": 20,
   "metadata": {
    "collapsed": true,
    "slideshow": {
     "slide_type": "slide"
    }
   },
   "outputs": [],
   "source": [
    "report_output_filename = 'output_report_{}.html'.format(company_name)\n",
    "# Set the Jinja2 environment\n",
    "j2_env = Environment(loader=FileSystemLoader(os.path.abspath('.')), trim_blocks=True)"
   ]
  },
  {
   "cell_type": "code",
   "execution_count": 21,
   "metadata": {
    "collapsed": true
   },
   "outputs": [],
   "source": [
    "# Define Jinja filters. A sample filter looks like this: \n",
    "#\n",
    "#      {{ company_name | title }}\n",
    "#\n",
    "#   which runs the function title(`company_name`) and outputs its result in the template\n",
    "j2_env.filters['percent'] = lambda x: int(float(x*100))\n",
    "j2_env.filters['slugify'] = lambda x: re.sub(r\"[^a-zA-Z]\", \"\", x)"
   ]
  },
  {
   "cell_type": "code",
   "execution_count": 22,
   "metadata": {
    "collapsed": true,
    "slideshow": {
     "slide_type": "slide"
    }
   },
   "outputs": [],
   "source": [
    "# Render the html template using actual data. We get a text string with html code\n",
    "template_filename = 'sales_report_template.html'\n",
    "output_html = (j2_env.get_template(template_filename).render(**data))"
   ]
  },
  {
   "cell_type": "code",
   "execution_count": 23,
   "metadata": {},
   "outputs": [
    {
     "name": "stdout",
     "output_type": "stream",
     "text": [
      "Report saved at output_report_Realbridge.html\n"
     ]
    },
    {
     "data": {
      "text/html": [
       "<a target=\"_blank\" href=\"output_report_Realbridge.html\">Open report</a>"
      ],
      "text/plain": [
       "<IPython.core.display.HTML object>"
      ]
     },
     "metadata": {},
     "output_type": "display_data"
    }
   ],
   "source": [
    "# Now save the html string to file, that can be viewed in a browser\n",
    "text_file = open(report_output_filename, \"wt\", encoding=\"utf8\")\n",
    "text_file.write(output_html)\n",
    "text_file.close()\n",
    "\n",
    "print('Report saved at '+report_output_filename)\n",
    "display(HTML('<a target=\"_blank\" href=\"{}\">Open report</a>'.format(report_output_filename)))"
   ]
  }
 ],
 "metadata": {
  "celltoolbar": "Slideshow",
  "kernelspec": {
   "display_name": "Python 3",
   "language": "python",
   "name": "python3"
  },
  "language_info": {
   "codemirror_mode": {
    "name": "ipython",
    "version": 3
   },
   "file_extension": ".py",
   "mimetype": "text/x-python",
   "name": "python",
   "nbconvert_exporter": "python",
   "pygments_lexer": "ipython3",
   "version": "3.6.1"
  }
 },
 "nbformat": 4,
 "nbformat_minor": 2
}
